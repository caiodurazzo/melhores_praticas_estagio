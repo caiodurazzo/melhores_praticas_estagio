{
 "cells": [
  {
   "cell_type": "markdown",
   "id": "0d14046b",
   "metadata": {},
   "source": [
    "## Visualização dos dados - interativos"
   ]
  },
  {
   "cell_type": "markdown",
   "id": "87a083ff",
   "metadata": {},
   "source": [
    "Nesse notebook são feitos os protótipos da visualizações interativas dos dados"
   ]
  }
 ],
 "metadata": {
  "language_info": {
   "name": "python"
  }
 },
 "nbformat": 4,
 "nbformat_minor": 5
}
