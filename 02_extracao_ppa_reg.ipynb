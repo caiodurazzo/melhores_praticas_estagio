{
 "cells": [
  {
   "cell_type": "markdown",
   "id": "148169ae",
   "metadata": {},
   "source": [
    "## Extração do PPA por regionalização"
   ]
  },
  {
   "cell_type": "markdown",
   "id": "aee517ba",
   "metadata": {},
   "source": [
    "Nesse notebook é extraída a base de dados do Plano Plurianual por regionalização (2022 - 2025) da Prefeitura Municipal de São Paulo."
   ]
  },
  {
   "cell_type": "markdown",
   "id": "1a78c3f4",
   "metadata": {},
   "source": [
    "Os dados são do site do orçamento da PMSP: https://orcamento.sf.prefeitura.sp.gov.br/orcamento/"
   ]
  },
  {
   "cell_type": "code",
   "execution_count": 1,
   "id": "b8ece8cc",
   "metadata": {},
   "outputs": [],
   "source": [
    "import pandas as pd\n",
    "import os\n",
    "from utils.save_csv import save_csv"
   ]
  },
  {
   "cell_type": "code",
   "execution_count": 2,
   "id": "e3875ae9",
   "metadata": {},
   "outputs": [],
   "source": [
    "file_ppa_reg = \"ppa_reg.csv\""
   ]
  },
  {
   "cell_type": "code",
   "execution_count": 3,
   "id": "c409955f",
   "metadata": {},
   "outputs": [],
   "source": [
    "url_ppa_reg = \"https://orcamento.sf.prefeitura.sp.gov.br/orcamento/uploads/2022_2025/PPA-2022-2025_ValorDA_Final.csv\""
   ]
  },
  {
   "cell_type": "code",
   "execution_count": 4,
   "id": "40e36bbf",
   "metadata": {},
   "outputs": [
    {
     "name": "stdout",
     "output_type": "stream",
     "text": [
      "Base salva em data\\ppa_reg.csv\n"
     ]
    }
   ],
   "source": [
    "if os.path.exists(file_ppa_reg):\n",
    "\n",
    "    df_ppa_reg = pd.read_csv(file_ppa_reg,\n",
    "                             sep = \";\",\n",
    "                             encoding = \"latin1\")\n",
    "    \n",
    "else:\n",
    "    df_ppa_reg = pd.read_csv(url_ppa_reg,\n",
    "                             sep = \";\",\n",
    "                             encoding = \"latin1\")\n",
    "    \n",
    "    save_csv(df_ppa_reg, file_ppa_reg)"
   ]
  }
 ],
 "metadata": {
  "kernelspec": {
   "display_name": "venv",
   "language": "python",
   "name": "python3"
  },
  "language_info": {
   "codemirror_mode": {
    "name": "ipython",
    "version": 3
   },
   "file_extension": ".py",
   "mimetype": "text/x-python",
   "name": "python",
   "nbconvert_exporter": "python",
   "pygments_lexer": "ipython3",
   "version": "3.12.0"
  }
 },
 "nbformat": 4,
 "nbformat_minor": 5
}
