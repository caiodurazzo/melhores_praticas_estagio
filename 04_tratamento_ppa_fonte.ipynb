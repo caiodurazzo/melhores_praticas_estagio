{
 "cells": [
  {
   "cell_type": "markdown",
   "id": "84ded974",
   "metadata": {},
   "source": [
    "## Tratamento do PPA por fonte"
   ]
  },
  {
   "cell_type": "markdown",
   "id": "3bc8e6a3",
   "metadata": {},
   "source": [
    "Nesse notebook são tratados os dados do Plano Plurianual por fonte (2022 - 2025) da Prefeitura Municipal de São Paulo"
   ]
  },
  {
   "cell_type": "code",
   "execution_count": 1,
   "id": "0b67021f",
   "metadata": {},
   "outputs": [],
   "source": [
    "from utils.load_csv import load_csv\n",
    "from utils.save_csv import save_csv"
   ]
  },
  {
   "cell_type": "code",
   "execution_count": 2,
   "id": "2e280a2c",
   "metadata": {},
   "outputs": [],
   "source": [
    "df_ppa_fonte = load_csv(\"ppa_fonte.csv\")"
   ]
  },
  {
   "cell_type": "code",
   "execution_count": 3,
   "id": "b69b23e7",
   "metadata": {},
   "outputs": [
    {
     "data": {
      "text/html": [
       "<div>\n",
       "<style scoped>\n",
       "    .dataframe tbody tr th:only-of-type {\n",
       "        vertical-align: middle;\n",
       "    }\n",
       "\n",
       "    .dataframe tbody tr th {\n",
       "        vertical-align: top;\n",
       "    }\n",
       "\n",
       "    .dataframe thead th {\n",
       "        text-align: right;\n",
       "    }\n",
       "</style>\n",
       "<table border=\"1\" class=\"dataframe\">\n",
       "  <thead>\n",
       "    <tr style=\"text-align: right;\">\n",
       "      <th></th>\n",
       "      <th>id</th>\n",
       "      <th>codigo orgao</th>\n",
       "      <th>descricao orgao</th>\n",
       "      <th>codigo unidade</th>\n",
       "      <th>descricao unidade</th>\n",
       "      <th>codigo da função</th>\n",
       "      <th>descricao da funcao</th>\n",
       "      <th>codigo subfuncao</th>\n",
       "      <th>descricao da subfuncao</th>\n",
       "      <th>codigo programa</th>\n",
       "      <th>descricao programa</th>\n",
       "      <th>codigo acao</th>\n",
       "      <th>descricao acao</th>\n",
       "      <th>codigo fonte</th>\n",
       "      <th>descricao fonte</th>\n",
       "      <th>' 2022'</th>\n",
       "      <th>' 2023'</th>\n",
       "      <th>' 2024'</th>\n",
       "      <th>' 2025'</th>\n",
       "    </tr>\n",
       "  </thead>\n",
       "  <tbody>\n",
       "    <tr>\n",
       "      <th>0</th>\n",
       "      <td>2_10_3011_2818</td>\n",
       "      <td>2</td>\n",
       "      <td>Hospital do Servidor Público Municipal</td>\n",
       "      <td>10</td>\n",
       "      <td>Hospital do Servidor Público Municipal</td>\n",
       "      <td>10</td>\n",
       "      <td>Saúde</td>\n",
       "      <td>122</td>\n",
       "      <td>Administração Geral</td>\n",
       "      <td>3011</td>\n",
       "      <td>Modernização Tecnológica, Desburocratização e ...</td>\n",
       "      <td>2818</td>\n",
       "      <td>Aquisição de Materiais, Equipamentos e Serviço...</td>\n",
       "      <td>0</td>\n",
       "      <td>Tesouro Municipal</td>\n",
       "      <td>1.501000e+09</td>\n",
       "      <td>1.729125e+09</td>\n",
       "      <td>1.746415e+09</td>\n",
       "      <td>1.764978e+09</td>\n",
       "    </tr>\n",
       "  </tbody>\n",
       "</table>\n",
       "</div>"
      ],
      "text/plain": [
       "               id  codigo orgao                         descricao orgao  \\\n",
       "0  2_10_3011_2818             2  Hospital do Servidor Público Municipal   \n",
       "\n",
       "   codigo unidade                       descricao unidade  codigo da função  \\\n",
       "0              10  Hospital do Servidor Público Municipal                10   \n",
       "\n",
       "  descricao da funcao  codigo subfuncao descricao da subfuncao  \\\n",
       "0               Saúde               122    Administração Geral   \n",
       "\n",
       "   codigo programa                                 descricao programa  \\\n",
       "0             3011  Modernização Tecnológica, Desburocratização e ...   \n",
       "\n",
       "   codigo acao                                     descricao acao  \\\n",
       "0         2818  Aquisição de Materiais, Equipamentos e Serviço...   \n",
       "\n",
       "   codigo fonte    descricao fonte       ' 2022'       ' 2023'       ' 2024'  \\\n",
       "0             0  Tesouro Municipal  1.501000e+09  1.729125e+09  1.746415e+09   \n",
       "\n",
       "        ' 2025'  \n",
       "0  1.764978e+09  "
      ]
     },
     "execution_count": 3,
     "metadata": {},
     "output_type": "execute_result"
    }
   ],
   "source": [
    "df_ppa_fonte.head(1)"
   ]
  },
  {
   "cell_type": "markdown",
   "id": "8f0660ff",
   "metadata": {},
   "source": [
    "#### Criação do \"id\""
   ]
  },
  {
   "cell_type": "markdown",
   "id": "67281d52",
   "metadata": {},
   "source": [
    "Cria variável \"id\" concatenando variáveis de código da base de dados para \"chave\" do merge"
   ]
  },
  {
   "cell_type": "code",
   "execution_count": 4,
   "id": "e93d6aa4",
   "metadata": {},
   "outputs": [],
   "source": [
    "df_ppa_fonte[\"id\"] = df_ppa_fonte[[\"codigo orgao\",\n",
    "                                   \"codigo unidade\",\n",
    "                                   \"codigo programa\",\n",
    "                                   \"codigo acao\"]].apply(lambda x: \"_\".join(x.astype(str)), axis=1)"
   ]
  },
  {
   "cell_type": "code",
   "execution_count": 5,
   "id": "133183e0",
   "metadata": {},
   "outputs": [],
   "source": [
    "cols = [\"id\"] + [col for col in df_ppa_fonte.columns if col != \"id\"]\n",
    "\n",
    "df_ppa_fonte = df_ppa_fonte[cols]"
   ]
  },
  {
   "cell_type": "markdown",
   "id": "fb52a30e",
   "metadata": {},
   "source": [
    "#### Transformação das variáveis de planejamento de recurso"
   ]
  },
  {
   "cell_type": "markdown",
   "id": "2c71e54a",
   "metadata": {},
   "source": [
    "Transforma as variáveis de planejamento de resurso da base de dados de string para float"
   ]
  },
  {
   "cell_type": "code",
   "execution_count": 6,
   "id": "392b4a9e",
   "metadata": {},
   "outputs": [],
   "source": [
    "cols_plan_recurso = [\"\\' 2022\\'\",\n",
    "                     \"\\' 2023\\'\",\n",
    "                     \"\\' 2024\\'\",\n",
    "                     \"\\' 2025\\'\"]"
   ]
  },
  {
   "cell_type": "code",
   "execution_count": 7,
   "id": "bc8eae4c",
   "metadata": {},
   "outputs": [],
   "source": [
    "for col in cols_plan_recurso:\n",
    "    df_ppa_fonte[col] = (df_ppa_fonte[col]\n",
    "                         .astype(str)\n",
    "                         .str.replace(\".\", \"\", regex = False)\n",
    "                         .str.replace(\",\", \".\", regex = False)\n",
    "                         .astype(float))"
   ]
  },
  {
   "cell_type": "code",
   "execution_count": 8,
   "id": "27bec280",
   "metadata": {},
   "outputs": [
    {
     "data": {
      "text/html": [
       "<div>\n",
       "<style scoped>\n",
       "    .dataframe tbody tr th:only-of-type {\n",
       "        vertical-align: middle;\n",
       "    }\n",
       "\n",
       "    .dataframe tbody tr th {\n",
       "        vertical-align: top;\n",
       "    }\n",
       "\n",
       "    .dataframe thead th {\n",
       "        text-align: right;\n",
       "    }\n",
       "</style>\n",
       "<table border=\"1\" class=\"dataframe\">\n",
       "  <thead>\n",
       "    <tr style=\"text-align: right;\">\n",
       "      <th></th>\n",
       "      <th>id</th>\n",
       "      <th>codigo orgao</th>\n",
       "      <th>descricao orgao</th>\n",
       "      <th>codigo unidade</th>\n",
       "      <th>descricao unidade</th>\n",
       "      <th>codigo da função</th>\n",
       "      <th>descricao da funcao</th>\n",
       "      <th>codigo subfuncao</th>\n",
       "      <th>descricao da subfuncao</th>\n",
       "      <th>codigo programa</th>\n",
       "      <th>descricao programa</th>\n",
       "      <th>codigo acao</th>\n",
       "      <th>descricao acao</th>\n",
       "      <th>codigo fonte</th>\n",
       "      <th>descricao fonte</th>\n",
       "      <th>' 2022'</th>\n",
       "      <th>' 2023'</th>\n",
       "      <th>' 2024'</th>\n",
       "      <th>' 2025'</th>\n",
       "    </tr>\n",
       "  </thead>\n",
       "  <tbody>\n",
       "    <tr>\n",
       "      <th>0</th>\n",
       "      <td>2_10_3011_2818</td>\n",
       "      <td>2</td>\n",
       "      <td>Hospital do Servidor Público Municipal</td>\n",
       "      <td>10</td>\n",
       "      <td>Hospital do Servidor Público Municipal</td>\n",
       "      <td>10</td>\n",
       "      <td>Saúde</td>\n",
       "      <td>122</td>\n",
       "      <td>Administração Geral</td>\n",
       "      <td>3011</td>\n",
       "      <td>Modernização Tecnológica, Desburocratização e ...</td>\n",
       "      <td>2818</td>\n",
       "      <td>Aquisição de Materiais, Equipamentos e Serviço...</td>\n",
       "      <td>0</td>\n",
       "      <td>Tesouro Municipal</td>\n",
       "      <td>1.501000e+10</td>\n",
       "      <td>1.729125e+10</td>\n",
       "      <td>1.746415e+10</td>\n",
       "      <td>1.764978e+10</td>\n",
       "    </tr>\n",
       "  </tbody>\n",
       "</table>\n",
       "</div>"
      ],
      "text/plain": [
       "               id  codigo orgao                         descricao orgao  \\\n",
       "0  2_10_3011_2818             2  Hospital do Servidor Público Municipal   \n",
       "\n",
       "   codigo unidade                       descricao unidade  codigo da função  \\\n",
       "0              10  Hospital do Servidor Público Municipal                10   \n",
       "\n",
       "  descricao da funcao  codigo subfuncao descricao da subfuncao  \\\n",
       "0               Saúde               122    Administração Geral   \n",
       "\n",
       "   codigo programa                                 descricao programa  \\\n",
       "0             3011  Modernização Tecnológica, Desburocratização e ...   \n",
       "\n",
       "   codigo acao                                     descricao acao  \\\n",
       "0         2818  Aquisição de Materiais, Equipamentos e Serviço...   \n",
       "\n",
       "   codigo fonte    descricao fonte       ' 2022'       ' 2023'       ' 2024'  \\\n",
       "0             0  Tesouro Municipal  1.501000e+10  1.729125e+10  1.746415e+10   \n",
       "\n",
       "        ' 2025'  \n",
       "0  1.764978e+10  "
      ]
     },
     "execution_count": 8,
     "metadata": {},
     "output_type": "execute_result"
    }
   ],
   "source": [
    "df_ppa_fonte.head(1)"
   ]
  },
  {
   "cell_type": "code",
   "execution_count": 9,
   "id": "4edbd9d8",
   "metadata": {},
   "outputs": [
    {
     "name": "stdout",
     "output_type": "stream",
     "text": [
      "Base salva em data\\ppa_fonte.csv\n"
     ]
    }
   ],
   "source": [
    "save_csv(df_ppa_fonte, \"ppa_fonte.csv\")"
   ]
  }
 ],
 "metadata": {
  "kernelspec": {
   "display_name": "venv",
   "language": "python",
   "name": "python3"
  },
  "language_info": {
   "codemirror_mode": {
    "name": "ipython",
    "version": 3
   },
   "file_extension": ".py",
   "mimetype": "text/x-python",
   "name": "python",
   "nbconvert_exporter": "python",
   "pygments_lexer": "ipython3",
   "version": "3.12.0"
  }
 },
 "nbformat": 4,
 "nbformat_minor": 5
}
