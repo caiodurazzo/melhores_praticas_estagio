{
 "cells": [
  {
   "cell_type": "markdown",
   "id": "5a5be40b",
   "metadata": {},
   "source": [
    "## Merge dos dados"
   ]
  },
  {
   "cell_type": "markdown",
   "id": "539689f8",
   "metadata": {},
   "source": [
    "Nesse notebook são mescladas as bases de dados do projeto"
   ]
  }
 ],
 "metadata": {
  "language_info": {
   "name": "python"
  }
 },
 "nbformat": 4,
 "nbformat_minor": 5
}
