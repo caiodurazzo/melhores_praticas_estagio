{
 "cells": [
  {
   "cell_type": "markdown",
   "id": "1b68cce7",
   "metadata": {},
   "source": [
    "## Extração do PPA por fonte"
   ]
  },
  {
   "cell_type": "markdown",
   "id": "be0b7667",
   "metadata": {},
   "source": [
    "Nesse notebook é extraída a base de dados do Plano Plurianual por fonte (2022 - 2025) da Prefeitura Municipal de São Paulo"
   ]
  },
  {
   "cell_type": "markdown",
   "id": "dd6b8587",
   "metadata": {},
   "source": [
    "Os dados são do site do orçamento da PMSP: https://orcamento.sf.prefeitura.sp.gov.br/orcamento/"
   ]
  },
  {
   "cell_type": "code",
   "execution_count": 1,
   "id": "106188b3",
   "metadata": {},
   "outputs": [],
   "source": [
    "import pandas as pd\n",
    "import os\n",
    "from utils.save_csv import save_csv"
   ]
  },
  {
   "cell_type": "code",
   "execution_count": 2,
   "id": "b37bbc04",
   "metadata": {},
   "outputs": [],
   "source": [
    "file_ppa_fonte = \"ppa_fonte.csv\""
   ]
  },
  {
   "cell_type": "code",
   "execution_count": 3,
   "id": "82b8f42b",
   "metadata": {},
   "outputs": [],
   "source": [
    "url_ppa_fonte = \"https://orcamento.sf.prefeitura.sp.gov.br/orcamento/uploads/2022_2025/PPA-2022-2025_ValorFonte_Final.csv\""
   ]
  },
  {
   "cell_type": "code",
   "execution_count": 4,
   "id": "b159b94b",
   "metadata": {},
   "outputs": [
    {
     "name": "stdout",
     "output_type": "stream",
     "text": [
      "Base salva em data\\ppa_fonte.csv\n"
     ]
    }
   ],
   "source": [
    "if os.path.exists(file_ppa_fonte):\n",
    "    \n",
    "    df_ppa_fonte = pd.read_csv(file_ppa_fonte,\n",
    "                               sep = \";\",\n",
    "                               encoding = \"latin1\")\n",
    "    \n",
    "else:\n",
    "\n",
    "    df_ppa_fonte = pd.read_csv(url_ppa_fonte,\n",
    "                               sep = \";\",\n",
    "                               encoding = \"latin1\")\n",
    "    \n",
    "    save_csv(df_ppa_fonte, file_ppa_fonte)"
   ]
  }
 ],
 "metadata": {
  "kernelspec": {
   "display_name": "venv",
   "language": "python",
   "name": "python3"
  },
  "language_info": {
   "codemirror_mode": {
    "name": "ipython",
    "version": 3
   },
   "file_extension": ".py",
   "mimetype": "text/x-python",
   "name": "python",
   "nbconvert_exporter": "python",
   "pygments_lexer": "ipython3",
   "version": "3.12.0"
  }
 },
 "nbformat": 4,
 "nbformat_minor": 5
}
