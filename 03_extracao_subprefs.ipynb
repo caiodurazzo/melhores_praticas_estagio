{
 "cells": [
  {
   "cell_type": "markdown",
   "id": "729b651b",
   "metadata": {},
   "source": [
    "## Extração das subprefeituras"
   ]
  },
  {
   "cell_type": "markdown",
   "id": "94afbc5a",
   "metadata": {},
   "source": [
    "Nesse notebook são extraídos os limites administrativos das subprefeituras da Prefeitura Municipal de São Paulo"
   ]
  },
  {
   "cell_type": "markdown",
   "id": "59ee9b68",
   "metadata": {},
   "source": [
    "Os dados são do projeto GeoSampa da PMSP: https://geosampa.prefeitura.sp.gov.br/PaginasPublicas/_SBC.aspx"
   ]
  },
  {
   "cell_type": "code",
   "execution_count": 1,
   "id": "bdcd1ad3",
   "metadata": {},
   "outputs": [],
   "source": [
    "import geopandas as gpd\n",
    "import requests\n",
    "from io import BytesIO\n",
    "import os\n",
    "from config import data_folder\n",
    "from utils.save_shp import save_shp"
   ]
  },
  {
   "cell_type": "code",
   "execution_count": 2,
   "id": "adb43df8",
   "metadata": {},
   "outputs": [],
   "source": [
    "def download_subprefs():\n",
    "\n",
    "    file = os.path.join(data_folder, \"subprefs.shp\")\n",
    "\n",
    "    if os.path.exists(file):\n",
    "        print(\"Retornando arquivo salvo\")\n",
    "        return gpd.read_file(file)\n",
    "\n",
    "    print(\"Carregando do GeoSampa\")\n",
    "\n",
    "    url = (\"http://wfs.geosampa.prefeitura.sp.gov.br/geoserver/geoportal/\"\n",
    "           \"wfs?version=1.0.0&request=GetFeature&outputFormat=SHAPE-ZIP\"\n",
    "           \"&typeName=geoportal:subprefeitura\")\n",
    "\n",
    "    with requests.get(url) as r:\n",
    "        content = BytesIO(r.content)\n",
    "        gdf_subprefs = gpd.read_file(content)\n",
    "\n",
    "    save_shp(gdf_subprefs, \"subprefs.shp\")\n",
    "\n",
    "    return gdf_subprefs"
   ]
  },
  {
   "cell_type": "code",
   "execution_count": 3,
   "id": "2917365e",
   "metadata": {},
   "outputs": [
    {
     "name": "stdout",
     "output_type": "stream",
     "text": [
      "Carregando do GeoSampa\n",
      "Shapefile salvo em data\\subprefs.shp\n"
     ]
    }
   ],
   "source": [
    "import warnings\n",
    "warnings.filterwarnings(\"ignore\", category = RuntimeWarning)\n",
    "\n",
    "download_subprefs();"
   ]
  }
 ],
 "metadata": {
  "kernelspec": {
   "display_name": "venv",
   "language": "python",
   "name": "python3"
  },
  "language_info": {
   "codemirror_mode": {
    "name": "ipython",
    "version": 3
   },
   "file_extension": ".py",
   "mimetype": "text/x-python",
   "name": "python",
   "nbconvert_exporter": "python",
   "pygments_lexer": "ipython3",
   "version": "3.12.0"
  }
 },
 "nbformat": 4,
 "nbformat_minor": 5
}
